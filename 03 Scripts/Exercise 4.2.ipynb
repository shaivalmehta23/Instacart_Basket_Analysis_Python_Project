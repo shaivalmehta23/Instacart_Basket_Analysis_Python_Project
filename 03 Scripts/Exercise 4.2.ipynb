{
 "cells": [
  {
   "cell_type": "markdown",
   "id": "c0a41c64-b604-4f40-8a51-f173aa212048",
   "metadata": {},
   "source": [
    "# 05 Import libraries\n",
    "import pandas as pd\n",
    "import numpy as np\n",
    "import os"
   ]
  },
  {
   "cell_type": "markdown",
   "id": "d74dbc67-1378-40ba-a1c6-65cb2182c28f",
   "metadata": {},
   "source": [
    "# 07 Code 3 different ways of reaching a result of 100"
   ]
  },
  {
   "cell_type": "code",
   "execution_count": 93,
   "id": "4e72f236-b4f0-4ab9-9d7f-249bebf666a2",
   "metadata": {},
   "outputs": [],
   "source": [
    "a = 40"
   ]
  },
  {
   "cell_type": "code",
   "execution_count": 95,
   "id": "ce449009-9ce2-4b8e-8473-5f6aae6f9e6c",
   "metadata": {},
   "outputs": [],
   "source": [
    "b = 30"
   ]
  },
  {
   "cell_type": "code",
   "execution_count": 97,
   "id": "2d347012-a3da-4ed3-8a1d-b11a7e14ada3",
   "metadata": {},
   "outputs": [],
   "source": [
    "c = 60"
   ]
  },
  {
   "cell_type": "code",
   "execution_count": 107,
   "id": "8c1587de-2155-4ccf-99ae-19a04f0c0fe4",
   "metadata": {},
   "outputs": [],
   "source": [
    "d = 10"
   ]
  },
  {
   "cell_type": "code",
   "execution_count": 109,
   "id": "fe25c81f-d0b8-4077-8752-7adb1a5b128f",
   "metadata": {},
   "outputs": [],
   "source": [
    "e = 20"
   ]
  },
  {
   "cell_type": "code",
   "execution_count": 99,
   "id": "d1c7a22b-0b52-4a2d-8ee3-6f12fb9d7e10",
   "metadata": {},
   "outputs": [
    {
     "data": {
      "text/plain": [
       "100"
      ]
     },
     "execution_count": 99,
     "metadata": {},
     "output_type": "execute_result"
    }
   ],
   "source": [
    "a + c"
   ]
  },
  {
   "cell_type": "code",
   "execution_count": 111,
   "id": "fe830c1c-ff5f-477e-8ede-578c979f7fec",
   "metadata": {},
   "outputs": [
    {
     "data": {
      "text/plain": [
       "100"
      ]
     },
     "execution_count": 111,
     "metadata": {},
     "output_type": "execute_result"
    }
   ],
   "source": [
    "a + b + c - d - e"
   ]
  },
  {
   "cell_type": "code",
   "execution_count": 113,
   "id": "1dff50b3-4167-4aba-9767-819dbf4ec8e9",
   "metadata": {},
   "outputs": [
    {
     "data": {
      "text/plain": [
       "100"
      ]
     },
     "execution_count": 113,
     "metadata": {},
     "output_type": "execute_result"
    }
   ],
   "source": [
    "b + c + d"
   ]
  },
  {
   "cell_type": "markdown",
   "id": "fbcca49e-865d-435a-9f55-63ca0294c152",
   "metadata": {},
   "source": [
    "# 08 Code 2 floating-point variables and divide them by each other"
   ]
  },
  {
   "cell_type": "code",
   "execution_count": 117,
   "id": "f8dfb155-8636-4b66-a014-ea9c5964fd4e",
   "metadata": {},
   "outputs": [],
   "source": [
    "x = 7.55"
   ]
  },
  {
   "cell_type": "code",
   "execution_count": 119,
   "id": "3d1a0c48-c347-4c86-8b1b-2c80888c5ff5",
   "metadata": {},
   "outputs": [],
   "source": [
    "y = 4.99"
   ]
  },
  {
   "cell_type": "code",
   "execution_count": 121,
   "id": "c832f52d-e931-4f2c-ba8b-d5e4b567c1fd",
   "metadata": {},
   "outputs": [
    {
     "data": {
      "text/plain": [
       "1.5130260521042083"
      ]
     },
     "execution_count": 121,
     "metadata": {},
     "output_type": "execute_result"
    }
   ],
   "source": [
    "x/y"
   ]
  },
  {
   "cell_type": "code",
   "execution_count": 123,
   "id": "a64aaa27-704a-4685-a2cf-43848d28766c",
   "metadata": {},
   "outputs": [],
   "source": [
    "x = 8.55"
   ]
  },
  {
   "cell_type": "code",
   "execution_count": 125,
   "id": "a003d409-af7f-4c4c-abd2-42adf57d86d7",
   "metadata": {},
   "outputs": [],
   "source": [
    "y = 20.55"
   ]
  },
  {
   "cell_type": "code",
   "execution_count": 127,
   "id": "2cd79a3b-9a1b-409e-895c-77890ab27602",
   "metadata": {},
   "outputs": [
    {
     "data": {
      "text/plain": [
       "0.416058394160584"
      ]
     },
     "execution_count": 127,
     "metadata": {},
     "output_type": "execute_result"
    }
   ],
   "source": [
    "x/y"
   ]
  },
  {
   "cell_type": "markdown",
   "id": "68bbaefa-e071-4576-804b-853a06932ca0",
   "metadata": {},
   "source": [
    "# 09 Construct a short word made of separate strings"
   ]
  },
  {
   "cell_type": "code",
   "execution_count": 131,
   "id": "5be55c84-f6d3-4729-83ff-be487cd2afc9",
   "metadata": {},
   "outputs": [],
   "source": [
    "x = 'Shaival '"
   ]
  },
  {
   "cell_type": "code",
   "execution_count": 133,
   "id": "d09bfdf6-75bb-4c8c-8ba9-a783dd8e074f",
   "metadata": {},
   "outputs": [],
   "source": [
    "y = 'Mehta'"
   ]
  },
  {
   "cell_type": "code",
   "execution_count": 135,
   "id": "3790709c-a28a-4756-8581-dbfdd4caf2dd",
   "metadata": {},
   "outputs": [
    {
     "data": {
      "text/plain": [
       "'Shaival Mehta'"
      ]
     },
     "execution_count": 135,
     "metadata": {},
     "output_type": "execute_result"
    }
   ],
   "source": [
    "x + y"
   ]
  },
  {
   "cell_type": "markdown",
   "id": "d427c7dc-1e0f-41d2-b90b-168b8fff30b6",
   "metadata": {},
   "source": [
    "# 10 Construct a short sentence made of separate strings"
   ]
  },
  {
   "cell_type": "code",
   "execution_count": 139,
   "id": "80a6642b-f281-4796-a455-ac61c7fc1ea8",
   "metadata": {},
   "outputs": [],
   "source": [
    "x = 'It is '"
   ]
  },
  {
   "cell_type": "code",
   "execution_count": 141,
   "id": "c37adb75-6304-4143-ad04-fd0cdadf6ae0",
   "metadata": {},
   "outputs": [],
   "source": [
    "y = 'raining in '"
   ]
  },
  {
   "cell_type": "code",
   "execution_count": 143,
   "id": "5cc4911e-8a22-4d52-8f5a-cbdefe29bb1e",
   "metadata": {},
   "outputs": [],
   "source": [
    "z = 'Calgary.'"
   ]
  },
  {
   "cell_type": "code",
   "execution_count": 145,
   "id": "3472853b-6c1f-4e59-a361-6535900fd713",
   "metadata": {},
   "outputs": [
    {
     "data": {
      "text/plain": [
       "'It is raining in Calgary.'"
      ]
     },
     "execution_count": 145,
     "metadata": {},
     "output_type": "execute_result"
    }
   ],
   "source": [
    "x + y + z"
   ]
  },
  {
   "cell_type": "code",
   "execution_count": 147,
   "id": "1afcdc8e-9991-46e3-9adc-55f83f5d6c49",
   "metadata": {},
   "outputs": [],
   "source": [
    "x = 'I like '"
   ]
  },
  {
   "cell_type": "code",
   "execution_count": 149,
   "id": "bd00036a-3099-4ed5-85a0-fd133df08e61",
   "metadata": {},
   "outputs": [],
   "source": [
    "y = 'to play video games '"
   ]
  },
  {
   "cell_type": "code",
   "execution_count": 151,
   "id": "8178e03e-7d87-4727-89ba-620837548b04",
   "metadata": {},
   "outputs": [],
   "source": [
    "z = 'for hours.'"
   ]
  },
  {
   "cell_type": "code",
   "execution_count": 153,
   "id": "fc75865a-f9c6-4787-9e5c-637e4564caf2",
   "metadata": {},
   "outputs": [
    {
     "data": {
      "text/plain": [
       "'I like to play video games for hours.'"
      ]
     },
     "execution_count": 153,
     "metadata": {},
     "output_type": "execute_result"
    }
   ],
   "source": [
    "x + y + z"
   ]
  }
 ],
 "metadata": {
  "kernelspec": {
   "display_name": "Python [conda env:base] *",
   "language": "python",
   "name": "conda-base-py"
  },
  "language_info": {
   "codemirror_mode": {
    "name": "ipython",
    "version": 3
   },
   "file_extension": ".py",
   "mimetype": "text/x-python",
   "name": "python",
   "nbconvert_exporter": "python",
   "pygments_lexer": "ipython3",
   "version": "3.12.7"
  }
 },
 "nbformat": 4,
 "nbformat_minor": 5
}
