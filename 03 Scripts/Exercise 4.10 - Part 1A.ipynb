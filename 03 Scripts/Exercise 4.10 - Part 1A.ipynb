{
 "cells": [
  {
   "cell_type": "markdown",
   "id": "c5fa00f8-fab2-46f4-81cd-52aa3f63852e",
   "metadata": {},
   "source": [
    "# 01 Importing libraries and Data Set"
   ]
  },
  {
   "cell_type": "code",
   "execution_count": 3,
   "id": "4205d38b-4f36-41b6-9583-fcd5a1a65bf6",
   "metadata": {},
   "outputs": [],
   "source": [
    "# import libraries\n",
    "import pandas as pd\n",
    "import numpy as np\n",
    "import os\n",
    "import matplotlib.pyplot as plt\n",
    "import seaborn as sns\n",
    "import scipy"
   ]
  },
  {
   "cell_type": "code",
   "execution_count": 4,
   "id": "d8dd2162-0959-4a10-96ad-d37d5d747514",
   "metadata": {},
   "outputs": [
    {
     "data": {
      "text/plain": [
       "'C:\\\\Users\\\\shaiv\\\\Downloads\\\\Instacart Basket Analysis'"
      ]
     },
     "execution_count": 4,
     "metadata": {},
     "output_type": "execute_result"
    }
   ],
   "source": [
    "# assign path\n",
    "path = r'C:\\Users\\shaiv\\Downloads\\Instacart Basket Analysis'\n",
    "path"
   ]
  },
  {
   "cell_type": "code",
   "execution_count": 5,
   "id": "8fdc73a6-e807-4985-bfd5-3c37780b0529",
   "metadata": {},
   "outputs": [],
   "source": [
    "# import data set\n",
    "ords_prods_custs = pd.read_pickle(os.path.join(path, '02 Data', 'Prepared Data', 'ords_prods_custs_merge.pkl'))"
   ]
  },
  {
   "cell_type": "markdown",
   "id": "e613ef26-dab5-405d-8936-62a540480ce3",
   "metadata": {},
   "source": [
    "# 02 Checking PII in data"
   ]
  },
  {
   "cell_type": "code",
   "execution_count": 9,
   "id": "28fd87ad-d804-471d-bf72-bfb9a30da2d6",
   "metadata": {},
   "outputs": [
    {
     "data": {
      "text/html": [
       "<div>\n",
       "<style scoped>\n",
       "    .dataframe tbody tr th:only-of-type {\n",
       "        vertical-align: middle;\n",
       "    }\n",
       "\n",
       "    .dataframe tbody tr th {\n",
       "        vertical-align: top;\n",
       "    }\n",
       "\n",
       "    .dataframe thead th {\n",
       "        text-align: right;\n",
       "    }\n",
       "</style>\n",
       "<table border=\"1\" class=\"dataframe\">\n",
       "  <thead>\n",
       "    <tr style=\"text-align: right;\">\n",
       "      <th></th>\n",
       "      <th>order_id</th>\n",
       "      <th>user_id</th>\n",
       "      <th>order_number</th>\n",
       "      <th>orders_day_of_week</th>\n",
       "      <th>order_hour_of_day</th>\n",
       "      <th>days_since_prior_order</th>\n",
       "      <th>first_order</th>\n",
       "      <th>product_id</th>\n",
       "      <th>add_to_cart_order</th>\n",
       "      <th>reordered</th>\n",
       "      <th>...</th>\n",
       "      <th>frequency_flag</th>\n",
       "      <th>First Name</th>\n",
       "      <th>Last Name</th>\n",
       "      <th>Gender</th>\n",
       "      <th>State</th>\n",
       "      <th>Age</th>\n",
       "      <th>Date Joined</th>\n",
       "      <th>Number of dependents</th>\n",
       "      <th>Family Status</th>\n",
       "      <th>Income</th>\n",
       "    </tr>\n",
       "  </thead>\n",
       "  <tbody>\n",
       "    <tr>\n",
       "      <th>0</th>\n",
       "      <td>2539329</td>\n",
       "      <td>1</td>\n",
       "      <td>1</td>\n",
       "      <td>2</td>\n",
       "      <td>8</td>\n",
       "      <td>NaN</td>\n",
       "      <td>True</td>\n",
       "      <td>196</td>\n",
       "      <td>1</td>\n",
       "      <td>0</td>\n",
       "      <td>...</td>\n",
       "      <td>Non-frequent customer</td>\n",
       "      <td>Linda</td>\n",
       "      <td>Nguyen</td>\n",
       "      <td>Female</td>\n",
       "      <td>Alabama</td>\n",
       "      <td>31</td>\n",
       "      <td>2/17/2019</td>\n",
       "      <td>3</td>\n",
       "      <td>married</td>\n",
       "      <td>40423</td>\n",
       "    </tr>\n",
       "    <tr>\n",
       "      <th>1</th>\n",
       "      <td>2539329</td>\n",
       "      <td>1</td>\n",
       "      <td>1</td>\n",
       "      <td>2</td>\n",
       "      <td>8</td>\n",
       "      <td>NaN</td>\n",
       "      <td>True</td>\n",
       "      <td>14084</td>\n",
       "      <td>2</td>\n",
       "      <td>0</td>\n",
       "      <td>...</td>\n",
       "      <td>Non-frequent customer</td>\n",
       "      <td>Linda</td>\n",
       "      <td>Nguyen</td>\n",
       "      <td>Female</td>\n",
       "      <td>Alabama</td>\n",
       "      <td>31</td>\n",
       "      <td>2/17/2019</td>\n",
       "      <td>3</td>\n",
       "      <td>married</td>\n",
       "      <td>40423</td>\n",
       "    </tr>\n",
       "    <tr>\n",
       "      <th>2</th>\n",
       "      <td>2539329</td>\n",
       "      <td>1</td>\n",
       "      <td>1</td>\n",
       "      <td>2</td>\n",
       "      <td>8</td>\n",
       "      <td>NaN</td>\n",
       "      <td>True</td>\n",
       "      <td>12427</td>\n",
       "      <td>3</td>\n",
       "      <td>0</td>\n",
       "      <td>...</td>\n",
       "      <td>Non-frequent customer</td>\n",
       "      <td>Linda</td>\n",
       "      <td>Nguyen</td>\n",
       "      <td>Female</td>\n",
       "      <td>Alabama</td>\n",
       "      <td>31</td>\n",
       "      <td>2/17/2019</td>\n",
       "      <td>3</td>\n",
       "      <td>married</td>\n",
       "      <td>40423</td>\n",
       "    </tr>\n",
       "    <tr>\n",
       "      <th>3</th>\n",
       "      <td>2539329</td>\n",
       "      <td>1</td>\n",
       "      <td>1</td>\n",
       "      <td>2</td>\n",
       "      <td>8</td>\n",
       "      <td>NaN</td>\n",
       "      <td>True</td>\n",
       "      <td>26088</td>\n",
       "      <td>4</td>\n",
       "      <td>0</td>\n",
       "      <td>...</td>\n",
       "      <td>Non-frequent customer</td>\n",
       "      <td>Linda</td>\n",
       "      <td>Nguyen</td>\n",
       "      <td>Female</td>\n",
       "      <td>Alabama</td>\n",
       "      <td>31</td>\n",
       "      <td>2/17/2019</td>\n",
       "      <td>3</td>\n",
       "      <td>married</td>\n",
       "      <td>40423</td>\n",
       "    </tr>\n",
       "    <tr>\n",
       "      <th>4</th>\n",
       "      <td>2539329</td>\n",
       "      <td>1</td>\n",
       "      <td>1</td>\n",
       "      <td>2</td>\n",
       "      <td>8</td>\n",
       "      <td>NaN</td>\n",
       "      <td>True</td>\n",
       "      <td>26405</td>\n",
       "      <td>5</td>\n",
       "      <td>0</td>\n",
       "      <td>...</td>\n",
       "      <td>Non-frequent customer</td>\n",
       "      <td>Linda</td>\n",
       "      <td>Nguyen</td>\n",
       "      <td>Female</td>\n",
       "      <td>Alabama</td>\n",
       "      <td>31</td>\n",
       "      <td>2/17/2019</td>\n",
       "      <td>3</td>\n",
       "      <td>married</td>\n",
       "      <td>40423</td>\n",
       "    </tr>\n",
       "  </tbody>\n",
       "</table>\n",
       "<p>5 rows × 32 columns</p>\n",
       "</div>"
      ],
      "text/plain": [
       "   order_id  user_id  order_number  orders_day_of_week  order_hour_of_day  \\\n",
       "0   2539329        1             1                   2                  8   \n",
       "1   2539329        1             1                   2                  8   \n",
       "2   2539329        1             1                   2                  8   \n",
       "3   2539329        1             1                   2                  8   \n",
       "4   2539329        1             1                   2                  8   \n",
       "\n",
       "   days_since_prior_order  first_order  product_id  add_to_cart_order  \\\n",
       "0                     NaN         True         196                  1   \n",
       "1                     NaN         True       14084                  2   \n",
       "2                     NaN         True       12427                  3   \n",
       "3                     NaN         True       26088                  4   \n",
       "4                     NaN         True       26405                  5   \n",
       "\n",
       "   reordered  ...         frequency_flag  First Name  Last Name  Gender  \\\n",
       "0          0  ...  Non-frequent customer       Linda     Nguyen  Female   \n",
       "1          0  ...  Non-frequent customer       Linda     Nguyen  Female   \n",
       "2          0  ...  Non-frequent customer       Linda     Nguyen  Female   \n",
       "3          0  ...  Non-frequent customer       Linda     Nguyen  Female   \n",
       "4          0  ...  Non-frequent customer       Linda     Nguyen  Female   \n",
       "\n",
       "     State Age Date Joined  Number of dependents Family Status  Income  \n",
       "0  Alabama  31   2/17/2019                     3       married   40423  \n",
       "1  Alabama  31   2/17/2019                     3       married   40423  \n",
       "2  Alabama  31   2/17/2019                     3       married   40423  \n",
       "3  Alabama  31   2/17/2019                     3       married   40423  \n",
       "4  Alabama  31   2/17/2019                     3       married   40423  \n",
       "\n",
       "[5 rows x 32 columns]"
      ]
     },
     "execution_count": 9,
     "metadata": {},
     "output_type": "execute_result"
    }
   ],
   "source": [
    "# Showing first 5 rows\n",
    "ords_prods_custs.head()"
   ]
  },
  {
   "cell_type": "markdown",
   "id": "631d74fe-1ffc-45b4-bec7-a43c2ef85c0b",
   "metadata": {},
   "source": [
    "##### This data set contains PII that are First Name, Last Name, and Income. We will keep this information in the data set since the data is obtained from the public source, if the data was from private source we would have hid or eliminated the PII."
   ]
  },
  {
   "cell_type": "markdown",
   "id": "eacebb65-e9e8-4d75-813f-088738575f76",
   "metadata": {},
   "source": [
    "# 03 Create a regional segmentation of the data"
   ]
  },
  {
   "cell_type": "code",
   "execution_count": 12,
   "id": "225784e0-b573-47e5-9ed2-a8bb6618c969",
   "metadata": {},
   "outputs": [],
   "source": [
    "# Assign Northeast Region\n",
    "ords_prods_custs.loc[ords_prods_custs['State'] == 'Maine', 'region'] = 'Northeast'\n",
    "ords_prods_custs.loc[ords_prods_custs['State'] == 'New Hampshire', 'region'] = 'Northeast'\n",
    "ords_prods_custs.loc[ords_prods_custs['State'] == 'Vermont', 'region'] = 'Northeast'\n",
    "ords_prods_custs.loc[ords_prods_custs['State'] == 'Massachusetts', 'region'] = 'Northeast'\n",
    "ords_prods_custs.loc[ords_prods_custs['State'] == 'Rhode Island', 'region'] = 'Northeast'\n",
    "ords_prods_custs.loc[ords_prods_custs['State'] == 'Connecticut', 'region'] = 'Northeast'\n",
    "ords_prods_custs.loc[ords_prods_custs['State'] == 'New York', 'region'] = 'Northeast'\n",
    "ords_prods_custs.loc[ords_prods_custs['State'] == 'Pennsylvania', 'region'] = 'Northeast'\n",
    "ords_prods_custs.loc[ords_prods_custs['State'] == 'New Jersey', 'region'] = 'Northeast'"
   ]
  },
  {
   "cell_type": "code",
   "execution_count": 13,
   "id": "b06ec627-1d17-4e9d-96ff-365856ae868a",
   "metadata": {},
   "outputs": [],
   "source": [
    "# Assign Midwest Region\n",
    "ords_prods_custs.loc[ords_prods_custs['State'] == 'Wisconsin', 'region'] = 'Midwest'\n",
    "ords_prods_custs.loc[ords_prods_custs['State'] == 'Michigan', 'region'] = 'Midwest'\n",
    "ords_prods_custs.loc[ords_prods_custs['State'] == 'Illinois', 'region'] = 'Midwest'\n",
    "ords_prods_custs.loc[ords_prods_custs['State'] == 'Indiana', 'region'] = 'Midwest'\n",
    "ords_prods_custs.loc[ords_prods_custs['State'] == 'Ohio', 'region'] = 'Midwest'\n",
    "ords_prods_custs.loc[ords_prods_custs['State'] == 'North Dakota', 'region'] = 'Midwest'\n",
    "ords_prods_custs.loc[ords_prods_custs['State'] == 'South Dakota', 'region'] = 'Midwest'\n",
    "ords_prods_custs.loc[ords_prods_custs['State'] == 'Nebraska', 'region'] = 'Midwest'\n",
    "ords_prods_custs.loc[ords_prods_custs['State'] == 'Kansas', 'region'] = 'Midwest'\n",
    "ords_prods_custs.loc[ords_prods_custs['State'] == 'Minnesota', 'region'] = 'Midwest'\n",
    "ords_prods_custs.loc[ords_prods_custs['State'] == 'Iowa', 'region'] = 'Midwest'\n",
    "ords_prods_custs.loc[ords_prods_custs['State'] == 'Missouri', 'region'] = 'Midwest'"
   ]
  },
  {
   "cell_type": "code",
   "execution_count": 14,
   "id": "9175f188-984f-4807-8f0b-11db815a4c99",
   "metadata": {},
   "outputs": [],
   "source": [
    "# Assign South Region\n",
    "ords_prods_custs.loc[ords_prods_custs['State'] == 'Delware', 'region'] = 'South'\n",
    "ords_prods_custs.loc[ords_prods_custs['State'] == 'Maryland', 'region'] = 'South'\n",
    "ords_prods_custs.loc[ords_prods_custs['State'] == 'District of Columbia', 'region'] = 'South'\n",
    "ords_prods_custs.loc[ords_prods_custs['State'] == 'Virginia', 'region'] = 'South'\n",
    "ords_prods_custs.loc[ords_prods_custs['State'] == 'West Virginia', 'region'] = 'South'\n",
    "ords_prods_custs.loc[ords_prods_custs['State'] == 'North Carolina', 'region'] = 'South'\n",
    "ords_prods_custs.loc[ords_prods_custs['State'] == 'South Carolina', 'region'] = 'South'\n",
    "ords_prods_custs.loc[ords_prods_custs['State'] == 'Georgia', 'region'] = 'South'\n",
    "ords_prods_custs.loc[ords_prods_custs['State'] == 'Florida', 'region'] = 'South'\n",
    "ords_prods_custs.loc[ords_prods_custs['State'] == 'Kentucky', 'region'] = 'South'\n",
    "ords_prods_custs.loc[ords_prods_custs['State'] == 'Tennessee', 'region'] = 'South'\n",
    "ords_prods_custs.loc[ords_prods_custs['State'] == 'Mississippi', 'region'] = 'South'\n",
    "ords_prods_custs.loc[ords_prods_custs['State'] == 'Alabama', 'region'] = 'South'\n",
    "ords_prods_custs.loc[ords_prods_custs['State'] == 'Oklahoma', 'region'] = 'South'\n",
    "ords_prods_custs.loc[ords_prods_custs['State'] == 'Texas', 'region'] = 'South'\n",
    "ords_prods_custs.loc[ords_prods_custs['State'] == 'Arkansas', 'region'] = 'South'\n",
    "ords_prods_custs.loc[ords_prods_custs['State'] == 'Louisiana', 'region'] = 'South'"
   ]
  },
  {
   "cell_type": "code",
   "execution_count": 15,
   "id": "40baa190-b6fe-49be-80e6-076cba0d628c",
   "metadata": {},
   "outputs": [],
   "source": [
    "# Assign West Region\n",
    "ords_prods_custs.loc[ords_prods_custs['State'] == 'Idaho', 'region'] = 'West'\n",
    "ords_prods_custs.loc[ords_prods_custs['State'] == 'Montana', 'region'] = 'West'\n",
    "ords_prods_custs.loc[ords_prods_custs['State'] == 'Wyoming', 'region'] = 'West'\n",
    "ords_prods_custs.loc[ords_prods_custs['State'] == 'Nevada', 'region'] = 'West'\n",
    "ords_prods_custs.loc[ords_prods_custs['State'] == 'Utah', 'region'] = 'West'\n",
    "ords_prods_custs.loc[ords_prods_custs['State'] == 'Colorado', 'region'] = 'West'\n",
    "ords_prods_custs.loc[ords_prods_custs['State'] == 'Arizona', 'region'] = 'West'\n",
    "ords_prods_custs.loc[ords_prods_custs['State'] == 'New Mexico', 'region'] = 'West'\n",
    "ords_prods_custs.loc[ords_prods_custs['State'] == 'Alaska', 'region'] = 'West'\n",
    "ords_prods_custs.loc[ords_prods_custs['State'] == 'Washington', 'region'] = 'West'\n",
    "ords_prods_custs.loc[ords_prods_custs['State'] == 'Oregon', 'region'] = 'West'\n",
    "ords_prods_custs.loc[ords_prods_custs['State'] == 'California', 'region'] = 'West'\n",
    "ords_prods_custs.loc[ords_prods_custs['State'] == 'Hawaii', 'region'] = 'West'"
   ]
  },
  {
   "cell_type": "markdown",
   "id": "e7ace516-ca66-4a59-8f96-c97fde0faa28",
   "metadata": {},
   "source": [
    "### Determine whether there’s a difference in spending habits between the different U.S. regions"
   ]
  },
  {
   "cell_type": "code",
   "execution_count": 17,
   "id": "0c0ff231-8f84-4200-afaa-0591f95a4074",
   "metadata": {},
   "outputs": [],
   "source": [
    "# Crosstab region to spending flag\n",
    "crosstab = pd.crosstab(ords_prods_custs['region'], ords_prods_custs['spender_flag'],dropna = False)"
   ]
  },
  {
   "cell_type": "code",
   "execution_count": 18,
   "id": "4df21424-62b2-441c-bc38-d0fcef6f3d52",
   "metadata": {},
   "outputs": [],
   "source": [
    "crosstab.to_clipboard()"
   ]
  },
  {
   "cell_type": "markdown",
   "id": "a0c13e5b-60c4-41b2-bd5b-a5641325a342",
   "metadata": {},
   "source": [
    "##### Note: Excel file is saved as Exercise 4.10 (crosstab) under 03 Scripts folder."
   ]
  },
  {
   "cell_type": "markdown",
   "id": "92646085-88a9-4169-a720-d4a87eade82d",
   "metadata": {},
   "source": [
    "##### It appears that across all regions, high spenders make up a very small fraction (<1%) of the total, with only minor variations."
   ]
  },
  {
   "cell_type": "markdown",
   "id": "f645bc84-fb9f-40b7-9535-26bdfa3d09bb",
   "metadata": {},
   "source": [
    "# 04 Create an exclusion flag for low-activity customers (customers with less than 5 orders) and exclude them from the data"
   ]
  },
  {
   "cell_type": "code",
   "execution_count": 35,
   "id": "72e1c9c7-7fc9-4be0-9393-85f8faf99144",
   "metadata": {},
   "outputs": [],
   "source": [
    "# Create flag for customers with less than 5 orders\n",
    "ords_prods_custs.loc[ords_prods_custs['max_order'] < 5, 'activity_flag'] = 'low-activity customer'\n",
    "ords_prods_custs.loc[ords_prods_custs['max_order'] >=5, 'activity_flag'] = 'high-activity customer'"
   ]
  },
  {
   "cell_type": "code",
   "execution_count": 36,
   "id": "086b731f-a319-4089-ba08-3ff08f28e302",
   "metadata": {},
   "outputs": [
    {
     "data": {
      "text/plain": [
       "activity_flag\n",
       "high-activity customer    30964564\n",
       "low-activity customer      1440295\n",
       "Name: count, dtype: int64"
      ]
     },
     "execution_count": 36,
     "metadata": {},
     "output_type": "execute_result"
    }
   ],
   "source": [
    "# Count of high and low acitivty customers\n",
    "ords_prods_custs['activity_flag'].value_counts(dropna = False)"
   ]
  },
  {
   "cell_type": "code",
   "execution_count": 37,
   "id": "116cb056-aeca-46bf-94f4-68dae0d0412d",
   "metadata": {},
   "outputs": [],
   "source": [
    "# Removing low-activity customers\n",
    "ords_prods_custs_excluded = ords_prods_custs[ords_prods_custs['activity_flag'] != 'low-activity customer']"
   ]
  },
  {
   "cell_type": "code",
   "execution_count": 39,
   "id": "2fdef852-1499-4f1f-bed8-62e8758af626",
   "metadata": {},
   "outputs": [
    {
     "data": {
      "text/plain": [
       "activity_flag\n",
       "high-activity customer    30964564\n",
       "Name: count, dtype: int64"
      ]
     },
     "execution_count": 39,
     "metadata": {},
     "output_type": "execute_result"
    }
   ],
   "source": [
    "# Verifying the count of high and low activity customers after removing the rows\n",
    "ords_prods_custs_excluded['activity_flag'].value_counts(dropna = False)"
   ]
  },
  {
   "cell_type": "code",
   "execution_count": 41,
   "id": "1ea65961-c82d-4387-a028-44479f8ec44c",
   "metadata": {},
   "outputs": [],
   "source": [
    "# Exporting the data\n",
    "ords_prods_custs_excluded.to_pickle(os.path.join(path, '02 Data', 'Prepared Data', 'ords_prods_custs_excluded.pkl'))"
   ]
  },
  {
   "cell_type": "code",
   "execution_count": null,
   "id": "59a16b06-7fbc-4310-9c96-3901653df955",
   "metadata": {},
   "outputs": [],
   "source": []
  }
 ],
 "metadata": {
  "kernelspec": {
   "display_name": "Python [conda env:base] *",
   "language": "python",
   "name": "conda-base-py"
  },
  "language_info": {
   "codemirror_mode": {
    "name": "ipython",
    "version": 3
   },
   "file_extension": ".py",
   "mimetype": "text/x-python",
   "name": "python",
   "nbconvert_exporter": "python",
   "pygments_lexer": "ipython3",
   "version": "3.12.7"
  }
 },
 "nbformat": 4,
 "nbformat_minor": 5
}
